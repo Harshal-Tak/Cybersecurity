{
  "cells": [
    {
      "cell_type": "markdown",
      "id": "aef02b1c",
      "metadata": {
        "id": "aef02b1c"
      },
      "source": [
        "# S-DES Algorithm\n",
        "## - 32567 Harshal Tak\n",
        "<h2 style=\"color:blue\">- (original work) </h2>"
      ]
    },
    {
      "cell_type": "markdown",
      "id": "1a6757b3",
      "metadata": {
        "id": "1a6757b3"
      },
      "source": [
        "## Required Permutations and Initial 10-bit Key"
      ]
    },
    {
      "cell_type": "code",
      "execution_count": null,
      "id": "85b4bd7a",
      "metadata": {
        "id": "85b4bd7a"
      },
      "outputs": [],
      "source": [
        "# 10-bit key\n",
        "key = [1, 0, 1, 0, 0, 0, 0, 0, 1, 0]\n",
        "P_10 = [3, 5, 2, 7, 4, 10, 1, 9, 8, 6 ] # P10 Table\n",
        "P_8 = [6, 3, 7, 4, 8, 5, 10, 9] # P8 Table\n",
        "P_4 = [2,4,3,1] # P4 Table\n",
        "Perm = [2,6,3,1,4,8,5,7] # Initial Permutation\n",
        "IP_1 = [4,1,3,5,7,2,8,6] # Inverse Permutation"
      ]
    },
    {
      "cell_type": "code",
      "execution_count": null,
      "id": "bd442ff1",
      "metadata": {
        "id": "bd442ff1"
      },
      "outputs": [],
      "source": [
        "# Substitution tables\n",
        "S0 = [[1,0,3,2],\n",
        "      [3,2,1,0],\n",
        "      [0,2,1,3],\n",
        "      [3,1,3,2]]\n",
        "S1=  [[0,1,2,3],\n",
        "      [2,0,1,3],\n",
        "      [3,0,1,0],\n",
        "      [2,1,0,3]]"
      ]
    },
    {
      "cell_type": "markdown",
      "id": "2e677e69",
      "metadata": {
        "id": "2e677e69"
      },
      "source": [
        "## Functions required in code"
      ]
    },
    {
      "cell_type": "code",
      "execution_count": null,
      "id": "dd51928c",
      "metadata": {
        "id": "dd51928c"
      },
      "outputs": [],
      "source": [
        "def permute(table,key,permute_table):\n",
        "    for i in range(len(permute_table)):\n",
        "        index = permute_table[i]\n",
        "        table[i] = key[index-1]\n",
        "    return table\n",
        "\n",
        "def Left_shift(lst):\n",
        "    new_lst = [0,0,0,0,0]\n",
        "    for i in range(0,5):\n",
        "        if(i == 0):\n",
        "            new_lst[4] = lst[0]\n",
        "        else:\n",
        "            new_lst[i-1] = lst[i]\n",
        "    return new_lst\n",
        "\n",
        "def bitshifting(bitlist):\n",
        "    out = 0\n",
        "    for bit in bitlist:\n",
        "        out = (out << 1) | bit\n",
        "    return out\n",
        "\n",
        "def substitution(row,col,S):\n",
        "    val = 0\n",
        "    for i in range(len(S)):\n",
        "        for j in range(len(S)):\n",
        "            if(i==row and j==col):\n",
        "                val = S[i][j]\n",
        "    val = bin(val)[2:]\n",
        "    if val == '0':\n",
        "        val+='0'\n",
        "    if val == '1':\n",
        "        val= '0'+val\n",
        "    val = [int(s) for s in [*val]]\n",
        "    return val\n"
      ]
    },
    {
      "cell_type": "markdown",
      "id": "b9d0ee5c",
      "metadata": {
        "id": "b9d0ee5c"
      },
      "source": [
        "## Key Generation Function (Creates two 8-bit keys)"
      ]
    },
    {
      "cell_type": "code",
      "execution_count": null,
      "id": "a91580a4",
      "metadata": {
        "id": "a91580a4"
      },
      "outputs": [],
      "source": [
        "def key_generation(P_8,P_10,key):\n",
        "    key_P10 = [0,0,0,0,0,0,0,0,0,0]\n",
        "    print(\"P(10) Value: \",permute(key_P10,key,P_10))\n",
        "\n",
        "    left = key_P10[0:5]\n",
        "    right = key_P10[5:10]\n",
        "    print(\"Left half: \",left)\n",
        "    print(\"Right half: \",right)\n",
        "\n",
        "    left1 = Left_shift(left)\n",
        "    right1 = Left_shift(right)\n",
        "    print(\"After 1-bit Left Shift: \")\n",
        "    print(\"Left: \",left1)\n",
        "    print(\"Right: \",right1)\n",
        "\n",
        "    LS1 = left1+right1\n",
        "    print(\"LS1: \",LS1)\n",
        "\n",
        "    P8_key = LS1\n",
        "    key_P8 = [0,0,0,0,0,0,0,0,0,0]\n",
        "    key1 = permute(key_P8,P8_key,P_8)\n",
        "    key1 = key1[0:8]\n",
        "\n",
        "    left2 = Left_shift(left1)\n",
        "    right2 = Left_shift(right1)\n",
        "    left2 = Left_shift(left2)\n",
        "    right2 = Left_shift(right2)\n",
        "    print(\"2-bit Left Shift on 1-Left Shift one: \")\n",
        "    print(\"Left: \",left2)\n",
        "    print(\"Right: \",right2)\n",
        "\n",
        "    LS2 = left2+right2\n",
        "    print(\"LS2: \",LS2)\n",
        "\n",
        "    P8_key2 = LS2\n",
        "    key_P8 = [0,0,0,0,0,0,0,0,0,0]\n",
        "    key2 = permute(key_P8,P8_key2,P_8)\n",
        "    key2 = key2[0:8]\n",
        "\n",
        "    return key1,key2"
      ]
    },
    {
      "cell_type": "markdown",
      "id": "0f516154",
      "metadata": {
        "id": "0f516154"
      },
      "source": [
        "## Function which carries out expansion permutation, XOR operation and Substitution operations"
      ]
    },
    {
      "cell_type": "code",
      "execution_count": null,
      "id": "cbdfe33c",
      "metadata": {
        "id": "cbdfe33c"
      },
      "outputs": [],
      "source": [
        "def complexfunc(key,left,right):\n",
        "    # Expanded Permutation on right half\n",
        "    indexr = [4,1,2,3,2,3,4,1]\n",
        "    EP1 = []\n",
        "    for i in range(len(indexr)):\n",
        "        index = indexr[i]\n",
        "        val = right[index-1]\n",
        "        EP1.append(val)\n",
        "    print(\"Expanded Permutation: \",EP1)\n",
        "\n",
        "    # XOR on K1 and EP1\n",
        "    XOR = []\n",
        "    for i in range(0,8):\n",
        "        result = key[i]^EP1[i]\n",
        "        XOR.append(result)\n",
        "    print(\"XOR between key and expandend permutation 1: \",XOR)\n",
        "\n",
        "    lx = XOR[0:4]\n",
        "    rx = XOR[4:8]\n",
        "    print(\"Left XOR: \",lx)\n",
        "    print(\"Right XOR: \",rx)\n",
        "\n",
        "    # Substitution\n",
        "    # For left:\n",
        "    lrow =[lx[0],lx[3]]\n",
        "    lcol =[lx[1],lx[2]]\n",
        "    row_l = bitshifting(lrow)\n",
        "    col_l = bitshifting(lcol)\n",
        "    print(\"Row: \",row_l,\" Column: \",col_l)\n",
        "    Subs_left = substitution(row_l,col_l,S0)\n",
        "    print(\"Left 2-bits: \",Subs_left)\n",
        "\n",
        "    # For right:\n",
        "    rrow =[rx[0],rx[3]]\n",
        "    rcol =[rx[1],rx[2]]\n",
        "    row_r = bitshifting(rrow)\n",
        "    col_r = bitshifting(rcol)\n",
        "    print(\"Row: \",row_r,\" Column: \",col_r)\n",
        "    Subs_right = substitution(row_r,col_r,S1)\n",
        "    print(\"Right 2-bits: \",Subs_right)\n",
        "\n",
        "    Subs1 = Subs_left+Subs_right\n",
        "    print(\"Combined parts: \",Subs1)\n",
        "\n",
        "    # P4 on Subs1\n",
        "    result = [0,0,0,0,0,0,0,0]\n",
        "    P4 = permute(result,Subs1,P_4)\n",
        "    P4 = P4[0:4]\n",
        "    print(\"P4 result: \",P4)\n",
        "\n",
        "    # XOR P4 and left IP\n",
        "    XOR2 = []\n",
        "    for i in range(0,4):\n",
        "        val = left[i]^P4[i]\n",
        "        XOR2.append(val)\n",
        "    print(f\"XOR between P4 {P4} and left Initial Permutation {left} : \",XOR2)\n",
        "\n",
        "    # Combine right IP and XOR2\n",
        "    comb = XOR2+right\n",
        "    return comb"
      ]
    },
    {
      "cell_type": "markdown",
      "id": "fe37b56e",
      "metadata": {
        "id": "fe37b56e"
      },
      "source": [
        "## Encryption Function"
      ]
    },
    {
      "cell_type": "code",
      "execution_count": null,
      "id": "6963711d",
      "metadata": {
        "id": "6963711d"
      },
      "outputs": [],
      "source": [
        "def encryption(plain_text,Perm,IP_1,key1,key2):\n",
        "\n",
        "    result = [0,0,0,0,0,0,0,0]\n",
        "    IP = permute(result,plain_text,Perm)\n",
        "    print(\"Initial Permutation: \",IP)\n",
        "\n",
        "    l = IP[0:4]\n",
        "    r = IP[4:8]\n",
        "    print(\"Left Half: \",l)\n",
        "    print(\"Right Half: \",r)\n",
        "\n",
        "    comb1 = complexfunc(key1,l,r)\n",
        "    print(\"Comb1: \",comb1)\n",
        "    combl = comb1[0:4]\n",
        "    combr = comb1[4:8]\n",
        "    comb1 = combr+combl\n",
        "    print(\"Join right half then left half: \",comb1)\n",
        "    l1 = comb1[0:4]\n",
        "    r1 = comb1[4:8]\n",
        "\n",
        "    comb2 = complexfunc(key2,l1,r1)\n",
        "    print(\"Comb2: \",comb2)\n",
        "\n",
        "    result = [0,0,0,0,0,0,0,0]\n",
        "    cipher = permute(result,comb2,IP_1)\n",
        "\n",
        "    return cipher"
      ]
    },
    {
      "cell_type": "markdown",
      "id": "a70797a5",
      "metadata": {
        "id": "a70797a5"
      },
      "source": [
        "## Decryption Function"
      ]
    },
    {
      "cell_type": "code",
      "execution_count": null,
      "id": "a016fbc4",
      "metadata": {
        "id": "a016fbc4"
      },
      "outputs": [],
      "source": [
        "def decryption(cipher,Perm,IP_1,key1,key2):\n",
        "    result = [0,0,0,0,0,0,0,0]\n",
        "    IP = permute(result,cipher,Perm)\n",
        "    print(\"Initial Permutation: \",IP)\n",
        "\n",
        "    l = IP[0:4]\n",
        "    r = IP[4:8]\n",
        "    print(\"Left Half: \",l)\n",
        "    print(\"Right Half: \",r)\n",
        "\n",
        "    comb1 = complexfunc(key2,l,r)\n",
        "    print(\"Comb1: \",comb1)\n",
        "    combl = comb1[0:4]\n",
        "    combr = comb1[4:8]\n",
        "    comb1 = combr+combl\n",
        "    print(\"Join right half then left half: \",comb1)\n",
        "    l1 = comb1[0:4]\n",
        "    r1 = comb1[4:8]\n",
        "\n",
        "    comb2 = complexfunc(key1,l1,r1)\n",
        "    print(\"Comb2: \",comb2)\n",
        "\n",
        "    result = [0,0,0,0,0,0,0,0]\n",
        "    decrypted = permute(result,comb2,IP_1)\n",
        "\n",
        "    return decrypted"
      ]
    },
    {
      "cell_type": "markdown",
      "id": "4aa3f614",
      "metadata": {
        "id": "4aa3f614"
      },
      "source": [
        "## Input plain text"
      ]
    },
    {
      "cell_type": "code",
      "execution_count": null,
      "id": "2c59b028",
      "metadata": {
        "colab": {
          "base_uri": "https://localhost:8080/"
        },
        "id": "2c59b028",
        "outputId": "9a59abe3-9a2d-4de8-d43a-a32e5e3429a7"
      },
      "outputs": [
        {
          "output_type": "stream",
          "name": "stdout",
          "text": [
            "P(10) Value:  [1, 0, 0, 0, 0, 0, 1, 1, 0, 0]\n",
            "Left half:  [1, 0, 0, 0, 0]\n",
            "Right half:  [0, 1, 1, 0, 0]\n",
            "After 1-bit Left Shift: \n",
            "Left:  [0, 0, 0, 0, 1]\n",
            "Right:  [1, 1, 0, 0, 0]\n",
            "LS1:  [0, 0, 0, 0, 1, 1, 1, 0, 0, 0]\n",
            "2-bit Left Shift on 1-Left Shift one: \n",
            "Left:  [0, 0, 1, 0, 0]\n",
            "Right:  [0, 0, 0, 1, 1]\n",
            "LS2:  [0, 0, 1, 0, 0, 0, 0, 0, 1, 1]\n",
            "Initial Permutation:  [0, 1, 1, 1, 1, 0, 0, 1]\n",
            "Left Half:  [0, 1, 1, 1]\n",
            "Right Half:  [1, 0, 0, 1]\n",
            "Expanded Permutation:  [1, 1, 0, 0, 0, 0, 1, 1]\n",
            "XOR between key and expandend permutation 1:  [0, 1, 1, 0, 0, 1, 1, 1]\n",
            "Left XOR:  [0, 1, 1, 0]\n",
            "Right XOR:  [0, 1, 1, 1]\n",
            "Row:  0  Column:  3\n",
            "Left 2-bits:  [1, 0]\n",
            "Row:  1  Column:  3\n",
            "Right 2-bits:  [1, 1]\n",
            "Combined parts:  [1, 0, 1, 1]\n",
            "P4 result:  [0, 1, 1, 1]\n",
            "XOR between P4 [0, 1, 1, 1] and left Initial Permutation [0, 1, 1, 1] :  [0, 0, 0, 0]\n",
            "Comb1:  [0, 0, 0, 0, 1, 0, 0, 1]\n",
            "Join right half then left half:  [1, 0, 0, 1, 0, 0, 0, 0]\n",
            "Expanded Permutation:  [0, 0, 0, 0, 0, 0, 0, 0]\n",
            "XOR between key and expandend permutation 1:  [0, 1, 0, 0, 0, 0, 1, 1]\n",
            "Left XOR:  [0, 1, 0, 0]\n",
            "Right XOR:  [0, 0, 1, 1]\n",
            "Row:  0  Column:  2\n",
            "Left 2-bits:  [1, 1]\n",
            "Row:  1  Column:  1\n",
            "Right 2-bits:  [0, 0]\n",
            "Combined parts:  [1, 1, 0, 0]\n",
            "P4 result:  [1, 0, 0, 1]\n",
            "XOR between P4 [1, 0, 0, 1] and left Initial Permutation [1, 0, 0, 1] :  [0, 0, 0, 0]\n",
            "Comb2:  [0, 0, 0, 0, 0, 0, 0, 0]\n"
          ]
        }
      ],
      "source": [
        "plain_text = [1,0,1,1,0,1,0,0]\n",
        "key1,key2 = key_generation(P_8,P_10,key)\n",
        "cipher = encryption(plain_text,Perm,IP_1,key1,key2)"
      ]
    },
    {
      "cell_type": "code",
      "execution_count": null,
      "id": "d8286d9f",
      "metadata": {
        "colab": {
          "base_uri": "https://localhost:8080/"
        },
        "id": "d8286d9f",
        "outputId": "0f9ccf55-e8f1-4b25-c270-176312d049f1"
      },
      "outputs": [
        {
          "output_type": "stream",
          "name": "stdout",
          "text": [
            "Initial Permutation:  [0, 0, 0, 0, 0, 0, 0, 0]\n",
            "Left Half:  [0, 0, 0, 0]\n",
            "Right Half:  [0, 0, 0, 0]\n",
            "Expanded Permutation:  [0, 0, 0, 0, 0, 0, 0, 0]\n",
            "XOR between key and expandend permutation 1:  [0, 1, 0, 0, 0, 0, 1, 1]\n",
            "Left XOR:  [0, 1, 0, 0]\n",
            "Right XOR:  [0, 0, 1, 1]\n",
            "Row:  0  Column:  2\n",
            "Left 2-bits:  [1, 1]\n",
            "Row:  1  Column:  1\n",
            "Right 2-bits:  [0, 0]\n",
            "Combined parts:  [1, 1, 0, 0]\n",
            "P4 result:  [1, 0, 0, 1]\n",
            "XOR between P4 [1, 0, 0, 1] and left Initial Permutation [0, 0, 0, 0] :  [1, 0, 0, 1]\n",
            "Comb1:  [1, 0, 0, 1, 0, 0, 0, 0]\n",
            "Join right half then left half:  [0, 0, 0, 0, 1, 0, 0, 1]\n",
            "Expanded Permutation:  [1, 1, 0, 0, 0, 0, 1, 1]\n",
            "XOR between key and expandend permutation 1:  [0, 1, 1, 0, 0, 1, 1, 1]\n",
            "Left XOR:  [0, 1, 1, 0]\n",
            "Right XOR:  [0, 1, 1, 1]\n",
            "Row:  0  Column:  3\n",
            "Left 2-bits:  [1, 0]\n",
            "Row:  1  Column:  3\n",
            "Right 2-bits:  [1, 1]\n",
            "Combined parts:  [1, 0, 1, 1]\n",
            "P4 result:  [0, 1, 1, 1]\n",
            "XOR between P4 [0, 1, 1, 1] and left Initial Permutation [0, 0, 0, 0] :  [0, 1, 1, 1]\n",
            "Comb2:  [0, 1, 1, 1, 1, 0, 0, 1]\n"
          ]
        }
      ],
      "source": [
        "decrypted = decryption(cipher,Perm,IP_1,key1,key2)"
      ]
    },
    {
      "cell_type": "markdown",
      "id": "0a56ab32",
      "metadata": {
        "id": "0a56ab32"
      },
      "source": [
        "## Output"
      ]
    },
    {
      "cell_type": "code",
      "execution_count": null,
      "id": "cff93ee7",
      "metadata": {
        "colab": {
          "base_uri": "https://localhost:8080/"
        },
        "id": "cff93ee7",
        "outputId": "86f65373-1e8b-4c80-d444-f6e42f09fe4f"
      },
      "outputs": [
        {
          "output_type": "stream",
          "name": "stdout",
          "text": [
            "Key1:  [1, 0, 1, 0, 0, 1, 0, 0]\n",
            "Key2:  [0, 1, 0, 0, 0, 0, 1, 1]\n",
            "Plain text:  [1, 0, 1, 1, 0, 1, 1, 0]\n",
            "Cipher Text:  [0, 0, 0, 0, 0, 0, 0, 0]\n",
            "Decrypted text:  [1, 0, 1, 1, 0, 1, 1, 0]\n"
          ]
        }
      ],
      "source": [
        "print(\"Key1: \",key1)\n",
        "print(\"Key2: \",key2)\n",
        "print(\"Plain text: \",plain_text)\n",
        "print(\"Cipher Text: \",cipher)\n",
        "print(\"Decrypted text: \",decrypted)"
      ]
    },
    {
      "cell_type": "code",
      "execution_count": null,
      "id": "50d163b4",
      "metadata": {
        "id": "50d163b4"
      },
      "outputs": [],
      "source": []
    }
  ],
  "metadata": {
    "kernelspec": {
      "display_name": "Python 3 (ipykernel)",
      "language": "python",
      "name": "python3"
    },
    "language_info": {
      "codemirror_mode": {
        "name": "ipython",
        "version": 3
      },
      "file_extension": ".py",
      "mimetype": "text/x-python",
      "name": "python",
      "nbconvert_exporter": "python",
      "pygments_lexer": "ipython3",
      "version": "3.9.12"
    },
    "colab": {
      "provenance": []
    }
  },
  "nbformat": 4,
  "nbformat_minor": 5
}