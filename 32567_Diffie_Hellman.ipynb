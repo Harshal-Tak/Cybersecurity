{
  "cells": [
    {
      "cell_type": "code",
      "execution_count": null,
      "id": "b5ece37a",
      "metadata": {
        "id": "b5ece37a"
      },
      "outputs": [],
      "source": [
        "# Diffie-Hellman Code\n",
        "\n",
        "\n",
        "def prime_checker(p):\n",
        "\t# Checks If the number entered is a Prime Number or not\n",
        "\tif p < 1:\n",
        "\t\treturn -1\n",
        "\telif p > 1:\n",
        "\t\tif p == 2:\n",
        "\t\t\treturn 1\n",
        "\t\tfor i in range(2, p):\n",
        "\t\t\tif p % i == 0:\n",
        "\t\t\t\treturn -1\n",
        "\t\t\treturn 1\n",
        "\n",
        "\n",
        "def primitive_check(g, p, L):\n",
        "\t# Checks If The Entered Number Is A Primitive Root Or Not\n",
        "\tfor i in range(1, p):\n",
        "\t\tL.append(pow(g, i) % p)\n",
        "\tfor i in range(1, p):\n",
        "\t\tif L.count(i) > 1:\n",
        "\t\t\tL.clear()\n",
        "\t\t\treturn -1\n",
        "\t\treturn 1\n",
        "\n",
        "\n",
        "l = []\n",
        "while 1:\n",
        "\tP = int(input(\"Enter P : \"))\n",
        "\tif prime_checker(P) == -1:\n",
        "\t\tprint(\"Number Is Not Prime, Please Enter Again!\")\n",
        "\t\tcontinue\n",
        "\tbreak\n",
        "\n",
        "while 1:\n",
        "\tG = int(input(f\"Enter The Primitive Root Of {P} : \"))\n",
        "\tif primitive_check(G, P, l) == -1:\n",
        "\t\tprint(f\"Number Is Not A Primitive Root Of {P}, Please Try Again!\")\n",
        "\t\tcontinue\n",
        "\tbreak\n",
        "\n",
        "# Private Keys\n",
        "x1, x2 = int(input(\"Enter The Private Key Of User 1 : \")), int(\n",
        "\tinput(\"Enter The Private Key Of User 2 : \"))\n",
        "while 1:\n",
        "\tif x1 >= P or x2 >= P:\n",
        "\t\tprint(f\"Private Key Of Both The Users Should Be Less Than {P}!\")\n",
        "\t\tcontinue\n",
        "\tbreak\n",
        "\n",
        "# Calculate Public Keys\n",
        "y1, y2 = pow(G, x1) % P, pow(G, x2) % P\n",
        "\n",
        "# Generate Secret Keys\n",
        "k1, k2 = pow(y2, x1) % P, pow(y1, x2) % P\n",
        "\n",
        "print(f\"\\nSecret Key For User 1 Is {k1}\\nSecret Key For User 2 Is {k2}\\n\")\n",
        "\n",
        "if k1 == k2:\n",
        "\tprint(\"Keys Have Been Exchanged Successfully\")\n",
        "else:\n",
        "\tprint(\"Keys Have Not Been Exchanged Successfully\")\n"
      ]
    },
    {
      "cell_type": "code",
      "execution_count": null,
      "id": "61e25121",
      "metadata": {
        "id": "61e25121",
        "outputId": "4e784193-ae70-4d3a-e4c5-34a103c45663",
        "colab": {
          "base_uri": "https://localhost:8080/"
        }
      },
      "outputs": [
        {
          "output_type": "stream",
          "name": "stdout",
          "text": [
            "Shared secret for Alice: 4\n",
            "Shared secret for Bob: 4\n"
          ]
        }
      ],
      "source": [
        "from random import randint\n",
        "\n",
        "def generate_key(prime, primitive_root):\n",
        "    private_key = randint(1, prime - 1)  # Choose a random private key\n",
        "    public_key = pow(primitive_root, private_key, prime)  # Calculate public key\n",
        "    return private_key, public_key\n",
        "\n",
        "def calculate_shared_secret(private_key, public_key, prime):\n",
        "    return pow(public_key, private_key, prime)  # Calculate shared secret\n",
        "\n",
        "# Shared parameters\n",
        "prime = 7  # Prime number\n",
        "primitive_root = 3  # Primitive root\n",
        "\n",
        "# Generate keys for Alice and Bob\n",
        "alice_private_key, alice_public_key = generate_key(prime, primitive_root)\n",
        "bob_private_key, bob_public_key = generate_key(prime, primitive_root)\n",
        "\n",
        "# Calculate shared secret for Alice and Bob\n",
        "alice_shared_secret = calculate_shared_secret(alice_private_key, bob_public_key, prime)\n",
        "bob_shared_secret = calculate_shared_secret(bob_private_key, alice_public_key, prime)\n",
        "\n",
        "# Both Alice and Bob should have the same shared secret\n",
        "print(\"Shared secret for Alice:\", alice_shared_secret)\n",
        "print(\"Shared secret for Bob:\", bob_shared_secret)\n"
      ]
    },
    {
      "cell_type": "code",
      "execution_count": null,
      "id": "39650748",
      "metadata": {
        "id": "39650748"
      },
      "outputs": [],
      "source": [
        "'''This code simulates the key exchange between Alice and Bob.\n",
        "They both independently generate private and public keys using the same prime number and primitive root.\n",
        "Then, they exchange public keys and calculate the shared secret using their private keys and the other's public key.\n",
        "Finally, they compare their shared secrets, which should match.'''"
      ]
    }
  ],
  "metadata": {
    "kernelspec": {
      "display_name": "Python 3 (ipykernel)",
      "language": "python",
      "name": "python3"
    },
    "language_info": {
      "codemirror_mode": {
        "name": "ipython",
        "version": 3
      },
      "file_extension": ".py",
      "mimetype": "text/x-python",
      "name": "python",
      "nbconvert_exporter": "python",
      "pygments_lexer": "ipython3",
      "version": "3.9.12"
    },
    "colab": {
      "provenance": []
    }
  },
  "nbformat": 4,
  "nbformat_minor": 5
}