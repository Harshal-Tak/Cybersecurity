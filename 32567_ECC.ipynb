{
 "cells": [
  {
   "cell_type": "code",
   "execution_count": 1,
   "id": "b6748b7d",
   "metadata": {},
   "outputs": [
    {
     "name": "stdout",
     "output_type": "stream",
     "text": [
      "X: 0x9984b0921e1d73d0ba72867d223a888600473406480101e79bb33d0ee1da90b70\n",
      "Y: 0x5bbc6b2237fae0bfd0890dd3015248280a74b19af88126a84b92e062a61702e1\n",
      "Currently exchange the publickey (e.g. through Internet)\n",
      "A shared key : 0x125014a22ae3e5f1c9de56e1557c1641012784c1814a7f6a356f2157a87fcd640\n",
      "(B) shared key : 0x125014a22ae3e5f1c9de56e1557c1641012784c1814a7f6a356f2157a87fcd640\n",
      "Equal shared keys: True\n"
     ]
    }
   ],
   "source": [
    "# Importing required libraries used \n",
    "# to perform arithmetic operations \n",
    "# on elliptic curves \n",
    "from tinyec import registry \n",
    "import secrets \n",
    "\n",
    "# Function to calculate compress point \n",
    "# of elliptic curves \n",
    "def compress(publicKey): \n",
    "    return hex(publicKey.x) + hex(publicKey.y % 2)[2:] \n",
    "\n",
    "# The elliptic curve which is used for the ECDH calculations \n",
    "curve = registry.get_curve('brainpoolP256r1') \n",
    "\n",
    "# Generation of secret key and public key \n",
    "Ka = secrets.randbelow(curve.field.n) \n",
    "X = Ka * curve.g \n",
    "print(\"X:\", compress(X)) \n",
    "Kb = secrets.randbelow(curve.field.n) \n",
    "Y = Kb * curve.g \n",
    "print(\"Y:\", compress(Y)) \n",
    "print(\"Currently exchange the publickey (e.g. through Internet)\") \n",
    "\n",
    "# (A_SharedKey): represents user A \n",
    "# (B_SharedKey): represents user B \n",
    "A_SharedKey = Ka * Y \n",
    "print(\"A shared key :\",compress(A_SharedKey)) \n",
    "B_SharedKey = Kb * X \n",
    "print(\"(B) shared key :\",compress(B_SharedKey)) \n",
    "print(\"Equal shared keys:\", A_SharedKey == B_SharedKey)\n"
   ]
  },
  {
   "cell_type": "code",
   "execution_count": 3,
   "id": "ee8695e7",
   "metadata": {},
   "outputs": [
    {
     "name": "stdout",
     "output_type": "stream",
     "text": [
      "Collecting tinyec\n",
      "  Downloading tinyec-0.4.0.tar.gz (24 kB)\n",
      "Building wheels for collected packages: tinyec\n",
      "  Building wheel for tinyec (setup.py): started\n",
      "  Building wheel for tinyec (setup.py): finished with status 'done'\n",
      "  Created wheel for tinyec: filename=tinyec-0.4.0-py3-none-any.whl size=20892 sha256=df4afa9eaf27960ff3037b1eb7649bdd994af487c27f708e73534ad50fc22f0e\n",
      "  Stored in directory: c:\\users\\harshal tak\\appdata\\local\\pip\\cache\\wheels\\40\\b9\\44\\1115d191053b74c238a0c2c1c09f66d0e21186489af0fa33f4\n",
      "Successfully built tinyec\n",
      "Installing collected packages: tinyec\n",
      "Successfully installed tinyec-0.4.0\n",
      "Note: you may need to restart the kernel to use updated packages.\n"
     ]
    }
   ],
   "source": []
  },
  {
   "cell_type": "code",
   "execution_count": null,
   "id": "8384715a",
   "metadata": {},
   "outputs": [],
   "source": []
  }
 ],
 "metadata": {
  "kernelspec": {
   "display_name": "Python 3 (ipykernel)",
   "language": "python",
   "name": "python3"
  },
  "language_info": {
   "codemirror_mode": {
    "name": "ipython",
    "version": 3
   },
   "file_extension": ".py",
   "mimetype": "text/x-python",
   "name": "python",
   "nbconvert_exporter": "python",
   "pygments_lexer": "ipython3",
   "version": "3.9.12"
  }
 },
 "nbformat": 4,
 "nbformat_minor": 5
}
