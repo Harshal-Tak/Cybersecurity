{
  "cells": [
    {
      "cell_type": "code",
      "execution_count": null,
      "id": "084f0bf6",
      "metadata": {
        "id": "084f0bf6"
      },
      "outputs": [],
      "source": [
        "import math\n",
        "import numpy as np"
      ]
    },
    {
      "cell_type": "code",
      "execution_count": null,
      "id": "1da977be",
      "metadata": {
        "id": "1da977be"
      },
      "outputs": [],
      "source": [
        "def check_prime(x):\n",
        "    flag = 0\n",
        "    for i in range(1,x):\n",
        "        if i>1:\n",
        "            if x%i == 0:\n",
        "                flag = 1\n",
        "                break\n",
        "            else:\n",
        "                flag = 0\n",
        "    if flag == 0:\n",
        "        return x\n",
        "    else:\n",
        "        return 0\n",
        "\n",
        "def calculate_e(p,q):\n",
        "    phi = (p-1)*(q-1)\n",
        "    flag = 0\n",
        "    while flag == 0:\n",
        "        e = np.random.randint(1,phi)\n",
        "        if (math.gcd(e,phi)==1):\n",
        "            flag = 1\n",
        "        else:\n",
        "            flag = 0\n",
        "\n",
        "    if flag == 1:\n",
        "        return e+1"
      ]
    },
    {
      "cell_type": "code",
      "execution_count": null,
      "id": "85243623",
      "metadata": {
        "id": "85243623",
        "outputId": "ae249948-c408-41b3-80b7-953c6be1c412"
      },
      "outputs": [
        {
          "name": "stdout",
          "output_type": "stream",
          "text": [
            "Enter prime number 1: 53\n",
            "Number 1 is:  53\n",
            "Enter prime number 2: 61\n",
            "Number 2 is:  61\n"
          ]
        }
      ],
      "source": [
        "p = int(input(\"Enter prime number 1: \"))\n",
        "print(f\"Number 1 is: \",check_prime(p))\n",
        "q = int(input(\"Enter prime number 2: \"))\n",
        "print(f\"Number 2 is: \",check_prime(q))"
      ]
    },
    {
      "cell_type": "code",
      "execution_count": null,
      "id": "599b197d",
      "metadata": {
        "id": "599b197d",
        "outputId": "d655bc05-fc17-4501-cd77-c7580baa6374"
      },
      "outputs": [
        {
          "name": "stdout",
          "output_type": "stream",
          "text": [
            "2664\n"
          ]
        }
      ],
      "source": [
        "n = p*q\n",
        "e = calculate_e(p,q)\n",
        "print(e)"
      ]
    },
    {
      "cell_type": "code",
      "execution_count": null,
      "id": "e25655c0",
      "metadata": {
        "id": "e25655c0",
        "outputId": "b99e1386-9386-4b1c-c512-bcfdca01d378"
      },
      "outputs": [
        {
          "ename": "ValueError",
          "evalue": "e is not invertible modulo phi",
          "output_type": "error",
          "traceback": [
            "\u001b[1;31m---------------------------------------------------------------------------\u001b[0m",
            "\u001b[1;31mValueError\u001b[0m                                Traceback (most recent call last)",
            "Input \u001b[1;32mIn [45]\u001b[0m, in \u001b[0;36m<cell line: 20>\u001b[1;34m()\u001b[0m\n\u001b[0;32m     17\u001b[0m n \u001b[38;5;241m=\u001b[39m \u001b[38;5;241m21\u001b[39m\n\u001b[0;32m     19\u001b[0m \u001b[38;5;66;03m# Calculate the private exponent d\u001b[39;00m\n\u001b[1;32m---> 20\u001b[0m d \u001b[38;5;241m=\u001b[39m \u001b[43mmodinv\u001b[49m\u001b[43m(\u001b[49m\u001b[43me\u001b[49m\u001b[43m,\u001b[49m\u001b[43m \u001b[49m\u001b[43mphi_n\u001b[49m\u001b[43m)\u001b[49m\n\u001b[0;32m     21\u001b[0m \u001b[38;5;28mprint\u001b[39m(\u001b[38;5;124m\"\u001b[39m\u001b[38;5;124mPrivate exponent d:\u001b[39m\u001b[38;5;124m\"\u001b[39m, d)\n\u001b[0;32m     23\u001b[0m msg \u001b[38;5;241m=\u001b[39m \u001b[38;5;241m12.0\u001b[39m\n",
            "Input \u001b[1;32mIn [45]\u001b[0m, in \u001b[0;36mmodinv\u001b[1;34m(e, phi)\u001b[0m\n\u001b[0;32m      9\u001b[0m d, x, y \u001b[38;5;241m=\u001b[39m extended_gcd(e, phi)\n\u001b[0;32m     10\u001b[0m \u001b[38;5;28;01mif\u001b[39;00m d \u001b[38;5;241m!=\u001b[39m \u001b[38;5;241m1\u001b[39m:\n\u001b[1;32m---> 11\u001b[0m     \u001b[38;5;28;01mraise\u001b[39;00m \u001b[38;5;167;01mValueError\u001b[39;00m(\u001b[38;5;124m\"\u001b[39m\u001b[38;5;124me is not invertible modulo phi\u001b[39m\u001b[38;5;124m\"\u001b[39m)\n\u001b[0;32m     12\u001b[0m \u001b[38;5;28;01mreturn\u001b[39;00m x \u001b[38;5;241m%\u001b[39m phi\n",
            "\u001b[1;31mValueError\u001b[0m: e is not invertible modulo phi"
          ]
        }
      ],
      "source": [
        "def extended_gcd(a, b):\n",
        "    if b == 0:\n",
        "        return a, 1, 0\n",
        "    else:\n",
        "        d, x, y = extended_gcd(b, a % b)\n",
        "        return d, y, x - (a // b) * y\n",
        "\n",
        "def modinv(e, phi):\n",
        "    d, x, y = extended_gcd(e, phi)\n",
        "    if d != 1:\n",
        "        raise ValueError(\"e is not invertible modulo phi\")\n",
        "    return x % phi\n",
        "\n",
        "# Example values of e, phi(n), and n\n",
        "e = 2\n",
        "phi_n = 12\n",
        "n = 21\n",
        "\n",
        "# Calculate the private exponent d\n",
        "d = modinv(e, phi_n)\n",
        "print(\"Private exponent d:\", d)\n",
        "\n",
        "msg = 12.0\n",
        "\n",
        "print(\"Message data = \", msg)\n",
        "\n",
        "# Encryption c = (msg ^ e) % n\n",
        "c = pow(msg, e)\n",
        "c = math.fmod(c, n)\n",
        "print(\"Encrypted data = \", c)\n",
        "\n",
        "# Decryption m = (c ^ d) % n\n",
        "m = pow(c, d)\n",
        "m = math.fmod(m, n)\n",
        "print(\"Original Message Sent = \", m)"
      ]
    },
    {
      "cell_type": "code",
      "execution_count": null,
      "id": "2bec3e4e",
      "metadata": {
        "id": "2bec3e4e",
        "outputId": "6ab86bba-823e-49df-83b5-06233bc1bc41",
        "colab": {
          "base_uri": "https://localhost:8080/"
        }
      },
      "outputs": [
        {
          "output_type": "stream",
          "name": "stdout",
          "text": [
            "Initial message:\n",
            "Test Message\n",
            "\n",
            "\n",
            "The encoded message(encrypted by public key)\n",
            "\n",
            "3718218412303680876848133172184123036230367427366921841\n",
            "\n",
            "\n",
            "The decoded message(decrypted by public key)\n",
            "\n",
            "Test Message\n"
          ]
        }
      ],
      "source": [
        "import random\n",
        "import math\n",
        "\n",
        "primes = set()\n",
        "public_key = None\n",
        "private_key = None\n",
        "n = None\n",
        "\n",
        "def generate_primes():\n",
        "    seive = [True] * 250\n",
        "    seive[0] = False\n",
        "    seive[1] = False\n",
        "    for i in range(2, 250):\n",
        "        if seive[i]:\n",
        "            primes.add(i)\n",
        "            for j in range(i * 2, 250, i):\n",
        "                seive[j] = False\n",
        "\n",
        "def pick_random_prime():\n",
        "    prime = random.choice(list(primes))\n",
        "    primes.remove(prime)\n",
        "    return prime\n",
        "\n",
        "def set_keys():\n",
        "    global public_key, private_key, n\n",
        "    prime1 = pick_random_prime()\n",
        "    prime2 = pick_random_prime()\n",
        "    n = prime1 * prime2\n",
        "    fi = (prime1 - 1) * (prime2 - 1)\n",
        "    e = 2\n",
        "    while math.gcd(e, fi) != 1:\n",
        "        e += 1\n",
        "    public_key = e\n",
        "    d = 2\n",
        "    while (d * e) % fi != 1:\n",
        "        d += 1\n",
        "    private_key = d\n",
        "\n",
        "def encrypt(message):\n",
        "    global public_key, n\n",
        "    return pow(message, public_key, n)\n",
        "\n",
        "def decrypt(encrypted_text):\n",
        "    global private_key, n\n",
        "    return pow(encrypted_text, private_key, n)\n",
        "\n",
        "def encode(message):\n",
        "    return [encrypt(ord(letter)) for letter in message]\n",
        "\n",
        "def decode(encoded):\n",
        "    return ''.join(chr(decrypt(num)) for num in encoded)\n",
        "\n",
        "if __name__ == '__main__':\n",
        "    generate_primes()\n",
        "    set_keys()\n",
        "    message = \"Test Message\"\n",
        "    coded = encode(message)\n",
        "    print(\"Initial message:\")\n",
        "    print(message)\n",
        "    print(\"\\n\\nThe encoded message(encrypted by public key)\\n\")\n",
        "    print(''.join(str(p) for p in coded))\n",
        "    print(\"\\n\\nThe decoded message(decrypted by public key)\\n\")\n",
        "    print(decode(coded))\n"
      ]
    },
    {
      "cell_type": "code",
      "execution_count": null,
      "id": "af85f1b2",
      "metadata": {
        "id": "af85f1b2",
        "colab": {
          "base_uri": "https://localhost:8080/"
        },
        "outputId": "534220a3-7264-4eb2-fb2e-96a844e57ba6"
      },
      "outputs": [
        {
          "output_type": "stream",
          "name": "stdout",
          "text": [
            "Message data =  12.0\n",
            "Encrypted data =  3.0\n",
            "Original Message Sent =  12.0\n"
          ]
        }
      ],
      "source": [
        "# Python for RSA asymmetric cryptographic algorithm.\n",
        "# For demonstration, values are\n",
        "# relatively small compared to practical application\n",
        "import math\n",
        "\n",
        "\n",
        "def gcd(a, h):\n",
        "\ttemp = 0\n",
        "\twhile(1):\n",
        "\t\ttemp = a % h\n",
        "\t\tif (temp == 0):\n",
        "\t\t\treturn h\n",
        "\t\ta = h\n",
        "\t\th = temp\n",
        "\n",
        "\n",
        "p = 3\n",
        "q = 7\n",
        "n = p*q\n",
        "e = 2\n",
        "phi = (p-1)*(q-1)\n",
        "\n",
        "while (e < phi):\n",
        "\n",
        "\t# e must be co-prime to phi and\n",
        "\t# smaller than phi.\n",
        "\tif(gcd(e, phi) == 1):\n",
        "\t\tbreak\n",
        "\telse:\n",
        "\t\te = e+1\n",
        "\n",
        "# Private key (d stands for decrypt)\n",
        "# choosing d such that it satisfies\n",
        "# d*e = 1 + k * totient\n",
        "\n",
        "k = 2\n",
        "d = (1 + (k*phi))/e\n",
        "\n",
        "# Message to be encrypted\n",
        "msg = 12.0\n",
        "\n",
        "print(\"Message data = \", msg)\n",
        "\n",
        "# Encryption c = (msg ^ e) % n\n",
        "c = pow(msg, e)\n",
        "c = math.fmod(c, n)\n",
        "print(\"Encrypted data = \", c)\n",
        "\n",
        "# Decryption m = (c ^ d) % n\n",
        "m = pow(c, d)\n",
        "m = math.fmod(m, n)\n",
        "print(\"Original Message Sent = \", m)\n"
      ]
    },
    {
      "cell_type": "code",
      "source": [],
      "metadata": {
        "id": "792IFy4o_nF3"
      },
      "id": "792IFy4o_nF3",
      "execution_count": null,
      "outputs": []
    }
  ],
  "metadata": {
    "kernelspec": {
      "display_name": "Python 3 (ipykernel)",
      "language": "python",
      "name": "python3"
    },
    "language_info": {
      "codemirror_mode": {
        "name": "ipython",
        "version": 3
      },
      "file_extension": ".py",
      "mimetype": "text/x-python",
      "name": "python",
      "nbconvert_exporter": "python",
      "pygments_lexer": "ipython3",
      "version": "3.9.12"
    },
    "colab": {
      "provenance": []
    }
  },
  "nbformat": 4,
  "nbformat_minor": 5
}